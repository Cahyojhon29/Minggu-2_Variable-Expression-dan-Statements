{
  "nbformat": 4,
  "nbformat_minor": 0,
  "metadata": {
    "colab": {
      "provenance": []
    },
    "kernelspec": {
      "name": "python3",
      "display_name": "Python 3"
    },
    "language_info": {
      "name": "python"
    }
  },
  "cells": [
    {
      "cell_type": "code",
      "execution_count": 1,
      "metadata": {
        "colab": {
          "base_uri": "https://localhost:8080/"
        },
        "id": "WqvTBqRhnXl6",
        "outputId": "b0a5f42b-f13f-4ea5-e24c-3c6c8e145795"
      },
      "outputs": [
        {
          "output_type": "stream",
          "name": "stdout",
          "text": [
            "Masukkan tinggi badan (meter): 167\n",
            "Masukkan nilai BMI yang diharapkan: 80\n",
            "Berat badan yang diperlukan untuk mencapai BMI dengan tinggi badan 167.0 meter adalah 2231120.0 kilogram.\n"
          ]
        }
      ],
      "source": [
        "def berat_badan(tinggi_badan, bmi):\n",
        "    berat_badan_diperlukan = bmi * (tinggi_badan ** 2)\n",
        "    return berat_badan_diperlukan\n",
        "\n",
        "tinggi_badan = float(input(\"Masukkan tinggi badan (meter): \"))\n",
        "\n",
        "bmi = float(input(\"Masukkan nilai BMI yang diharapkan: \"))\n",
        "\n",
        "berat_diperlukan = berat_badan(tinggi_badan, bmi)\n",
        "\n",
        "print(f\"Berat badan yang diperlukan untuk mencapai BMI dengan tinggi badan {tinggi_badan} meter adalah {berat_diperlukan} kilogram.\")"
      ]
    }
  ]
}