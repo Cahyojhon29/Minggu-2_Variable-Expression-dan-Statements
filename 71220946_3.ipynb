{
  "nbformat": 4,
  "nbformat_minor": 0,
  "metadata": {
    "colab": {
      "provenance": []
    },
    "kernelspec": {
      "name": "python3",
      "display_name": "Python 3"
    },
    "language_info": {
      "name": "python"
    }
  },
  "cells": [
    {
      "cell_type": "code",
      "execution_count": 1,
      "metadata": {
        "colab": {
          "base_uri": "https://localhost:8080/"
        },
        "id": "NRcHd2nEnmPJ",
        "outputId": "5c7e01a4-7c1b-4602-a686-443dcb70b321"
      },
      "outputs": [
        {
          "output_type": "stream",
          "name": "stdout",
          "text": [
            "Masukkan gaji per jam yang diinginkan: 100000\n",
            "Masukkan jumlah jam kerja per minggu: 14\n",
            "\n",
            "Hasil Perhitungan:\n",
            "1. Pendapatan Budi sebelum pajak: Rp.7,000,000.00\n",
            "2. Pendapatan Budi setelah pajak: Rp.6,020,000.00\n",
            "3. Pengeluaran untuk baju dan aksesoris: Rp.602,000.00\n",
            "4. Pengeluaran untuk alat tulis: Rp.60,200.00\n",
            "5. Jumlah uang yang akan disedekahkan: Rp.1,128,750.00\n",
            "6. Jumlah uang yang akan diterima anak yatim: Rp.338,625.00\n",
            "7. Jumlah uang yang akan diterima kaum dhuafa: Rp.790,125.00\n"
          ]
        }
      ],
      "source": [
        "def hitung_pendapatan(gaji_per_jam, jam_kerja_per_minggu):\n",
        "    pendapatan_sebelum_pajak = gaji_per_jam * jam_kerja_per_minggu * 5\n",
        "\n",
        "    pajak = 0.14 * pendapatan_sebelum_pajak\n",
        "    pendapatan_setelah_pajak = pendapatan_sebelum_pajak - pajak\n",
        "\n",
        "    pengeluaran_baju_aksesoris = 0.1 * pendapatan_setelah_pajak\n",
        "\n",
        "    pengeluaran_alat_tulis = 0.01 * pendapatan_setelah_pajak\n",
        "\n",
        "    sisa_uang = 0.75 * pendapatan_setelah_pajak\n",
        "    sedekah = 0.25 * sisa_uang\n",
        "\n",
        "    diterima_anak_yatim = 0.3 * sedekah\n",
        "    diterima_kaum_dhuafa = 0.7 * sedekah\n",
        "\n",
        "    return pendapatan_sebelum_pajak, pendapatan_setelah_pajak, pengeluaran_baju_aksesoris, \\\n",
        "           pengeluaran_alat_tulis, sedekah, diterima_anak_yatim, diterima_kaum_dhuafa\n",
        "\n",
        "gaji_per_jam = float(input(\"Masukkan gaji per jam yang diinginkan: \"))\n",
        "jam_kerja_per_minggu = float(input(\"Masukkan jumlah jam kerja per minggu: \"))\n",
        "\n",
        "hasil_perhitungan = hitung_pendapatan(gaji_per_jam, jam_kerja_per_minggu)\n",
        "\n",
        "print(\"\\nHasil Perhitungan:\")\n",
        "print(f\"1. Pendapatan Budi sebelum pajak: Rp.{hasil_perhitungan[0]:,.2f}\")\n",
        "print(f\"2. Pendapatan Budi setelah pajak: Rp.{hasil_perhitungan[1]:,.2f}\")\n",
        "print(f\"3. Pengeluaran untuk baju dan aksesoris: Rp.{hasil_perhitungan[2]:,.2f}\")\n",
        "print(f\"4. Pengeluaran untuk alat tulis: Rp.{hasil_perhitungan[3]:,.2f}\")\n",
        "print(f\"5. Jumlah uang yang akan disedekahkan: Rp.{hasil_perhitungan[4]:,.2f}\")\n",
        "print(f\"6. Jumlah uang yang akan diterima anak yatim: Rp.{hasil_perhitungan[5]:,.2f}\")\n",
        "print(f\"7. Jumlah uang yang akan diterima kaum dhuafa: Rp.{hasil_perhitungan[6]:,.2f}\")\n"
      ]
    }
  ]
}