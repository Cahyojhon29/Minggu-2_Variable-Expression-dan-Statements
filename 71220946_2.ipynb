{
  "nbformat": 4,
  "nbformat_minor": 0,
  "metadata": {
    "colab": {
      "provenance": []
    },
    "kernelspec": {
      "name": "python3",
      "display_name": "Python 3"
    },
    "language_info": {
      "name": "python"
    }
  },
  "cells": [
    {
      "cell_type": "code",
      "execution_count": 1,
      "metadata": {
        "colab": {
          "base_uri": "https://localhost:8080/"
        },
        "id": "dFMBEYk2nm12",
        "outputId": "a25b369e-4bd0-46c6-caf3-e99855e78dc2"
      },
      "outputs": [
        {
          "output_type": "stream",
          "name": "stdout",
          "text": [
            "Masukkan bilangan bulat x: 6\n",
            "Hasil dari fungsi adalah 446.5\n"
          ]
        }
      ],
      "source": [
        "def hitung_hasil_fungsi(x):\n",
        "    hasil = 2 * x**3 + 2 * x + 15 / x\n",
        "    return hasil\n",
        "\n",
        "x = int(input(\"Masukkan bilangan bulat x: \"))\n",
        "\n",
        "hasil_fungsi = hitung_hasil_fungsi(x)\n",
        "\n",
        "print(f\"Hasil dari fungsi adalah {hasil_fungsi}\")\n"
      ]
    }
  ]
}